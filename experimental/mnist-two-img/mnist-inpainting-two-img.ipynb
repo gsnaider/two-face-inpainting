{
 "cells": [
  {
   "cell_type": "markdown",
   "metadata": {
    "colab_type": "text",
    "id": "0TD5ZrvEMbhZ"
   },
   "source": [
    "# MNIST Inpainting con imagen de referencia\n",
    "En este experimento se implementará y entrenará un modelo de image inpainting sobre el dataset de MNIST, utilizando una segunda imágen como referencia. \n",
    "\n",
    "Se entrenará un modelo capaz de regenerar secciones faltantes dentro de imágenes de MNIST de forma realista. El modelo consiste de Deep Convolutional Networks, y se entrenará mediante un framework GAN, es decir, se entrenará un modelo generador y un discriminador en simultaneo.\n",
    "\n",
    "En esta versión, el generador recibe tanto la imágen con la sección a ser regenerada, como otra imagen de referencia del mismo dígito."
   ]
  },
  {
   "cell_type": "markdown",
   "metadata": {
    "colab_type": "text",
    "id": "e1_Y75QXJS6h"
   },
   "source": [
    "## Imports y setup"
   ]
  },
  {
   "cell_type": "code",
   "execution_count": 1,
   "metadata": {},
   "outputs": [
    {
     "name": "stdout",
     "output_type": "stream",
     "text": [
      "Requirement already satisfied: imageio in /home/gaston/workspace/virtualenvs/tf-gpu/lib/python3.5/site-packages (2.4.1)\r\n",
      "Requirement already satisfied: pillow in /home/gaston/workspace/virtualenvs/tf-gpu/lib/python3.5/site-packages (from imageio) (5.3.0)\r\n",
      "Requirement already satisfied: numpy in /home/gaston/.local/lib/python3.5/site-packages (from imageio) (1.14.3)\r\n"
     ]
    }
   ],
   "source": [
    "# to generate gifs\n",
    "!pip install imageio"
   ]
  },
  {
   "cell_type": "code",
   "execution_count": 2,
   "metadata": {
    "colab": {},
    "colab_type": "code",
    "id": "YfIk2es3hJEd"
   },
   "outputs": [],
   "source": [
    "import tensorflow as tf\n",
    "tf.enable_eager_execution()\n",
    "\n",
    "import glob\n",
    "import imageio\n",
    "import matplotlib.pyplot as plt\n",
    "import numpy as np\n",
    "import os\n",
    "import PIL\n",
    "import time\n",
    "\n",
    "from IPython import display"
   ]
  },
  {
   "cell_type": "code",
   "execution_count": 3,
   "metadata": {},
   "outputs": [
    {
     "name": "stdout",
     "output_type": "stream",
     "text": [
      "1.11.0\n"
     ]
    }
   ],
   "source": [
    "print(tf.__version__)"
   ]
  },
  {
   "cell_type": "markdown",
   "metadata": {
    "colab_type": "text",
    "id": "iYn4MdZnKCey"
   },
   "source": [
    "## Carga del dataset\n",
    "\n",
    "Usaremos el dataset de MNIST para entrenar al generador y al discriminador, el cual viene incluido dentro de la API de tf.keras. Del dataset de training se utiliza un 90% para el entrenamiento, y se separa un 10% para validación. En cada uno de estos datasets se separa un conjunto de imágenes para ser enmascaradas (las cuales seran regeneradas por el generador), y otro conjunto de imágenes para usar de referencia. A su vez, en el dataset de entrenamiento se separa un tercer conjunto de imágenes reales para entrenar al discriminador."
   ]
  },
  {
   "cell_type": "code",
   "execution_count": 4,
   "metadata": {},
   "outputs": [
    {
     "name": "stdout",
     "output_type": "stream",
     "text": [
      "(60000, 28, 28)\n",
      "(60000,)\n"
     ]
    }
   ],
   "source": [
    "(train_images, train_labels), (test_images, test_labels) = tf.keras.datasets.mnist.load_data()\n",
    "print(train_images.shape)\n",
    "print(train_labels.shape)"
   ]
  },
  {
   "cell_type": "code",
   "execution_count": 5,
   "metadata": {},
   "outputs": [],
   "source": [
    "def mask(image, reference_image):\n",
    "  \"\"\"\n",
    "  Applies a mask of zeroes of size 7x7 at the center of the image.\n",
    "  Returns a tuple of the masked image and the original image.\n",
    "  \"\"\"\n",
    "  upper_edge = tf.ones([10,28,1], tf.float32)\n",
    "  lower_edge = tf.ones([11,28,1], tf.float32)\n",
    "  \n",
    "  middle_left = tf.ones([7,10,1], tf.float32)\n",
    "  middle_right = tf.ones([7,11,1], tf.float32)\n",
    "  \n",
    "  zeros = tf.zeros([7,7,1], tf.float32)\n",
    "  \n",
    "  middle = tf.concat([middle_left, zeros, middle_right], axis=1)\n",
    "  mask = tf.concat([upper_edge, middle, lower_edge], axis=0)\n",
    "  \n",
    "  return (image * mask, image, reference_image)\n",
    "  "
   ]
  },
  {
   "cell_type": "code",
   "execution_count": 6,
   "metadata": {},
   "outputs": [],
   "source": [
    "def create_reference_dictionary(reference_labels):\n",
    "  \"\"\"\n",
    "  Returns a dictionary where each key corresponds to an MNIST label (0-9), \n",
    "  and each value is a list of the indeces from reference_labels containing the key label.\n",
    "  \"\"\"\n",
    "  reference_dict = {}\n",
    "  for label in range(10):\n",
    "    reference_dict[label] = np.where(reference_labels == label)[0]\n",
    "  return reference_dict"
   ]
  },
  {
   "cell_type": "code",
   "execution_count": 7,
   "metadata": {},
   "outputs": [],
   "source": [
    "def get_references(reference_pool, labels, reference_dict):\n",
    "  reference_images = []\n",
    "  for label in labels:\n",
    "    reference_idx = np.random.choice(reference_dict[label])\n",
    "    reference_images.append(reference_pool[reference_idx])\n",
    "  return np.array(reference_images)"
   ]
  },
  {
   "cell_type": "markdown",
   "metadata": {},
   "source": [
    "### Training set"
   ]
  },
  {
   "cell_type": "code",
   "execution_count": 8,
   "metadata": {
    "colab": {},
    "colab_type": "code",
    "id": "NFC2ghIdiZYE",
    "scrolled": true
   },
   "outputs": [],
   "source": [
    "train_images = train_images.reshape(train_images.shape[0], 28, 28, 1).astype('float32')\n",
    "test_images = test_images.reshape(test_images.shape[0], 28, 28, 1).astype('float32')\n",
    "\n",
    "# Normalize the images to [-1, 1]\n",
    "train_images = (train_images - 127.5) / 127.5\n",
    "test_images = (test_images - 127.5) / 127.5\n",
    "\n",
    "indeces = np.random.permutation(len(train_images))\n",
    "train_images = train_images[indeces]\n",
    "train_labels = train_labels[indeces]\n",
    "\n",
    "# Split between training and validation sets\n",
    "TRAINING_SAMPLES = int(len(train_images) * 0.9)\n",
    "train_set_images = train_images[:TRAINING_SAMPLES,:,:,:]\n",
    "validation_set_images = train_images[TRAINING_SAMPLES:,:,:,:]\n",
    "\n",
    "# TODO: generar diccionario de referencias para validation.\n",
    "\n",
    "train_set_labels = train_labels[:TRAINING_SAMPLES]\n",
    "validation_set_labels = train_labels[TRAINING_SAMPLES:]\n",
    "\n",
    "# Split training images between masked, full, and reference images.\n",
    "REAL_IMAGES_BOUNDRY = int(len(train_set_images) * 0.4)\n",
    "MASKED_IMAGES_BOUNDRY = REAL_IMAGES_BOUNDRY + int(len(train_set_images) * 0.4)\n",
    "\n",
    "train_full_images = train_set_images[:REAL_IMAGES_BOUNDRY,:,:,:]\n",
    "train_masked_images = train_set_images[REAL_IMAGES_BOUNDRY:MASKED_IMAGES_BOUNDRY,:,:,:]\n",
    "train_reference_images = train_set_images[MASKED_IMAGES_BOUNDRY:,:,:,:]\n",
    "\n",
    "train_full_labels = train_set_labels[:REAL_IMAGES_BOUNDRY]\n",
    "train_masked_labels = train_set_labels[REAL_IMAGES_BOUNDRY:MASKED_IMAGES_BOUNDRY]\n",
    "train_reference_labels = train_set_labels[MASKED_IMAGES_BOUNDRY:]\n",
    "\n",
    "\n",
    "train_reference_dict = create_reference_dictionary(train_reference_labels)\n",
    "train_full_references = get_references(train_reference_images, train_full_labels, train_reference_dict)\n",
    "train_masked_references = get_references(train_reference_images, train_masked_labels, train_reference_dict)\n"
   ]
  },
  {
   "cell_type": "code",
   "execution_count": 9,
   "metadata": {
    "colab": {},
    "colab_type": "code",
    "id": "-yKCCQOoJ7cn"
   },
   "outputs": [],
   "source": [
    "BUFFER_SIZE = TRAINING_SAMPLES\n",
    "BATCH_SIZE = 256\n",
    "\n",
    "train_full_images_ds = tf.data.Dataset.from_tensor_slices((train_full_images, train_full_references)).shuffle(BUFFER_SIZE).batch(BATCH_SIZE)\n",
    "train_masked_images_ds = tf.data.Dataset.from_tensor_slices((train_masked_images, train_masked_references)).shuffle(BUFFER_SIZE).batch(BATCH_SIZE).map(mask)\n",
    "\n",
    "train_dataset = tf.data.Dataset.zip((train_full_images_ds, train_masked_images_ds))"
   ]
  },
  {
   "cell_type": "markdown",
   "metadata": {},
   "source": [
    "### Validation set"
   ]
  },
  {
   "cell_type": "code",
   "execution_count": 10,
   "metadata": {},
   "outputs": [],
   "source": [
    "def show_and_save_images(images, name):\n",
    "  fig = plt.figure(figsize=(4,4))\n",
    "  \n",
    "  for i in range(images.shape[0]):\n",
    "      plt.subplot(4, 4, i+1)\n",
    "      plt.imshow(images[i, :, :, 0] * 127.5 + 127.5, cmap='gray')\n",
    "      plt.axis('off')\n",
    "        \n",
    "  plt.savefig(name)\n",
    "  plt.show()"
   ]
  },
  {
   "cell_type": "code",
   "execution_count": 11,
   "metadata": {},
   "outputs": [
    {
     "name": "stdout",
     "output_type": "stream",
     "text": [
      "Imágenes enmascaradas\n"
     ]
    },
    {
     "data": {
      "image/png": "[encoded data removed]",
      "text/plain": [
       "<Figure size 288x288 with 16 Axes>"
      ]
     },
     "metadata": {
      "needs_background": "light"
     },
     "output_type": "display_data"
    },
    {
     "name": "stdout",
     "output_type": "stream",
     "text": [
      "Imágenes reales\n"
     ]
    },
    {
     "data": {
      "image/png": "[encoded data removed]",
      "text/plain": [
       "<Figure size 288x288 with 16 Axes>"
      ]
     },
     "metadata": {
      "needs_background": "light"
     },
     "output_type": "display_data"
    },
    {
     "name": "stdout",
     "output_type": "stream",
     "text": [
      "Imágenes de referencia\n"
     ]
    },
    {
     "data": {
      "image/png": "[encoded data removed]",
      "text/plain": [
       "<Figure size 288x288 with 16 Axes>"
      ]
     },
     "metadata": {
      "needs_background": "light"
     },
     "output_type": "display_data"
    }
   ],
   "source": [
    "# Split validation images between masked and reference images.\n",
    "VALIDATION_IMAGES_BOUNDRY = int(len(validation_set_images) * 0.5)\n",
    "\n",
    "validation_images = validation_set_images[VALIDATION_IMAGES_BOUNDRY:,:,:,:]\n",
    "validation_reference_images = validation_set_images[:VALIDATION_IMAGES_BOUNDRY,:,:,:]\n",
    "\n",
    "validation_labels = validation_set_labels[VALIDATION_IMAGES_BOUNDRY:]\n",
    "validation_reference_labels = validation_set_labels[:VALIDATION_IMAGES_BOUNDRY]\n",
    "\n",
    "validation_reference_dict = create_reference_dictionary(validation_reference_labels)\n",
    "validation_images_references = get_references(validation_reference_images,\n",
    "                                              validation_labels, \n",
    "                                              validation_reference_dict)\n",
    "\n",
    "# Save a subset of validation images for displaying\n",
    "validation_images_subset = validation_images[:16]\n",
    "validation_references = validation_images_references[:16]\n",
    "\n",
    "validation_masked_images = []\n",
    "for i, image in enumerate(validation_images_subset):\n",
    "  masked_image, _, _ = mask(image, validation_references[i])\n",
    "  validation_masked_images.append(masked_image.numpy())\n",
    "\n",
    "validation_masked_images = np.array(validation_masked_images)\n",
    "\n",
    "print(\"Imágenes enmascaradas\")\n",
    "show_and_save_images(validation_masked_images, 'validation_masked_images.png')\n",
    "print(\"Imágenes reales\")\n",
    "show_and_save_images(validation_images_subset, 'validation_unmasked_images.png')\n",
    "print(\"Imágenes de referencia\")\n",
    "show_and_save_images(validation_references, 'validation_reference_images.png')"
   ]
  },
  {
   "cell_type": "markdown",
   "metadata": {
    "colab_type": "text",
    "id": "THY-sZMiQ4UV"
   },
   "source": [
    "## Creación de los modelos"
   ]
  },
  {
   "cell_type": "markdown",
   "metadata": {
    "colab_type": "text",
    "id": "-tEyxE-GMC48"
   },
   "source": [
    "### Generador\n",
    "\n",
    "El generador recibe como entrada dos imágenes: una imágen enmascarada de un dígito, y otra imágen de referencia de ese mismo dígito. Su objetivo es regenerar las secciones faltantes en las imágenes enmascaradas de forma realista, tomando como referencia la segunda imagen. \n",
    "\n",
    "La arquitectura del generador consiste de dos Encoders y un Decoder. Un Encoder recibe la imágen enmascarada, y el otro Encoder recibe la imágen de referencia. Cada enconder consiste de 3 capas convolucionales, con Batch Normalization y Leaky ReLU.\n",
    "\n",
    "Luego, los resultados de ambos encoders son concatenados y enviados al Decoder. El Decoder aplica 3 capas convolucionales transpuestas hasta generar una imágen del tamaño de la región faltante. Esta imágen será el output del generator."
   ]
  },
  {
   "cell_type": "code",
   "execution_count": 12,
   "metadata": {},
   "outputs": [],
   "source": [
    "class Generator(tf.keras.Model):\n",
    "  def __init__(self):\n",
    "    super(Generator, self).__init__()\n",
    "    \n",
    "    # Masked encoder\n",
    "    self.mask_enc_conv_1 = tf.keras.layers.Conv2D(64, (5, 5),\n",
    "                                                  strides=(1, 1), \n",
    "                                                  padding='same', \n",
    "                                                  input_shape=(28, 28, 1))\n",
    "    self.mask_enc_bn_1 = tf.keras.layers.BatchNormalization()\n",
    "    self.mask_enc_act_1 = tf.keras.layers.LeakyReLU()\n",
    "    # 28x28x64\n",
    "    \n",
    "    self.mask_enc_conv_2 = tf.keras.layers.Conv2D(64, (5, 5), strides=(2, 2), padding='same')\n",
    "    self.mask_enc_bn_2 = tf.keras.layers.BatchNormalization()\n",
    "    self.mask_enc_act_2 = tf.keras.layers.LeakyReLU()\n",
    "    # 14x14x64\n",
    "        \n",
    "    self.mask_enc_conv_3 = tf.keras.layers.Conv2D(128, (3, 3), strides=(2, 2), padding='same')\n",
    "    self.mask_enc_bn_3 = tf.keras.layers.BatchNormalization()\n",
    "    self.mask_enc_act_3 = tf.keras.layers.LeakyReLU()\n",
    "    # 7x7x128\n",
    "\n",
    "    \n",
    "    # Reference encoder\n",
    "    self.ref_enc_conv_1 = tf.keras.layers.Conv2D(64, (5, 5), \n",
    "                                                 strides=(1, 1), \n",
    "                                                 padding='same', \n",
    "                                                 input_shape=(28, 28, 1))\n",
    "    self.ref_enc_bn_1 = tf.keras.layers.BatchNormalization()\n",
    "    self.ref_enc_act_1 = tf.keras.layers.LeakyReLU()\n",
    "    # 28x28x64\n",
    "    \n",
    "    self.ref_enc_conv_2 = tf.keras.layers.Conv2D(64, (5, 5), strides=(2, 2), padding='same')\n",
    "    self.ref_enc_bn_2 = tf.keras.layers.BatchNormalization()\n",
    "    self.ref_enc_act_2 = tf.keras.layers.LeakyReLU()\n",
    "    # 14x14x64\n",
    "        \n",
    "    self.ref_enc_conv_3 = tf.keras.layers.Conv2D(128, (3, 3), strides=(2, 2), padding='same')\n",
    "    self.ref_enc_bn_3 = tf.keras.layers.BatchNormalization()\n",
    "    self.ref_enc_act_3 = tf.keras.layers.LeakyReLU()\n",
    "    # 7x7x128\n",
    "    \n",
    "    \n",
    "    # Decoder\n",
    "    self.dec_conv_1 = tf.keras.layers.Conv2DTranspose(128, (5, 5), \n",
    "                                                      strides=(1, 1), \n",
    "                                                      padding='same', \n",
    "                                                      use_bias=False, \n",
    "                                                      input_shape=(7, 7, 256))\n",
    "    self.dec_bn_1 = tf.keras.layers.BatchNormalization()\n",
    "    self.dec_act_1 = tf.keras.layers.LeakyReLU()\n",
    "    # 7x7x128\n",
    "\n",
    "    self.dec_conv_2 = tf.keras.layers.Conv2DTranspose(64, (5, 5), strides=(1, 1), padding='same', use_bias=False)\n",
    "    self.dec_bn_2 = tf.keras.layers.BatchNormalization()\n",
    "    self.dec_act_2 = tf.keras.layers.LeakyReLU()\n",
    "    # 7x7x64\n",
    "    \n",
    "    self.dec_conv_3 = tf.keras.layers.Conv2DTranspose(1, (5, 5), \n",
    "                                                      strides=(1, 1), \n",
    "                                                      padding='same', \n",
    "                                                      use_bias=False, \n",
    "                                                      activation='tanh')\n",
    "    # 7x7x1\n",
    "\n",
    "  def call(self, inputs, training=True):\n",
    "    \n",
    "    masked_image = inputs[0]\n",
    "    reference_image = inputs[1]\n",
    "    \n",
    "    # Apply masked image encoder\n",
    "    masked_encoding = self.mask_enc_conv_1(masked_image)\n",
    "    masked_encoding = self.mask_enc_bn_1(masked_encoding, training=training)\n",
    "    masked_encoding = self.mask_enc_act_1(masked_encoding)\n",
    "        \n",
    "    masked_encoding = self.mask_enc_conv_2(masked_encoding)\n",
    "    masked_encoding = self.mask_enc_bn_2(masked_encoding, training=training)\n",
    "    masked_encoding = self.mask_enc_act_2(masked_encoding)\n",
    "        \n",
    "    masked_encoding = self.mask_enc_conv_3(masked_encoding)\n",
    "    masked_encoding = self.mask_enc_bn_3(masked_encoding, training=training)\n",
    "    masked_encoding = self.mask_enc_act_3(masked_encoding)\n",
    "        \n",
    "    # Apply reference image encoder\n",
    "    reference_encoding = self.mask_enc_conv_1(reference_image)\n",
    "    reference_encoding = self.mask_enc_bn_1(reference_encoding, training=training)\n",
    "    reference_encoding = self.mask_enc_act_1(reference_encoding)\n",
    "        \n",
    "    reference_encoding = self.mask_enc_conv_2(reference_encoding)\n",
    "    reference_encoding = self.mask_enc_bn_2(reference_encoding, training=training)\n",
    "    reference_encoding = self.mask_enc_act_2(reference_encoding)\n",
    "        \n",
    "    reference_encoding = self.mask_enc_conv_3(reference_encoding)\n",
    "    reference_encoding = self.mask_enc_bn_3(reference_encoding, training=training)\n",
    "    reference_encoding = self.mask_enc_act_3(reference_encoding)\n",
    "    \n",
    "    # Join both the masked and reference encoding\n",
    "    encoding = tf.concat([masked_encoding, reference_encoding], axis=-1)\n",
    "    \n",
    "    # Apply the decoder to the joined encoding\n",
    "    encoding = self.dec_conv_1(encoding)\n",
    "    encoding = self.dec_bn_1(encoding, training=training)\n",
    "    encoding = self.dec_act_1(encoding)\n",
    "        \n",
    "    encoding = self.dec_conv_2(encoding)\n",
    "    encoding = self.dec_bn_2(encoding, training=training)\n",
    "    encoding = self.dec_act_2(encoding)\n",
    "    \n",
    "    generated_patch = self.dec_conv_3(encoding)\n",
    "    \n",
    "    return generated_patch"
   ]
  },
  {
   "cell_type": "markdown",
   "metadata": {
    "colab_type": "text",
    "id": "D0IKnaCtg6WE"
   },
   "source": [
    "### Discriminador\n",
    "\n",
    "El discriminador recibe como entrada dos imágenes: una imágen que puede ser real o tener una sección regenerada por el generador, y otra imágen de referencia de ese mismo dígito. Su objetivo ees distinguir entre imágenes reales e imágenes regeneradas por el generador, basandose tanto en la primer imagen como en la imagen de referencia.\n",
    "\n",
    "La arquitectura del discriminador consiste de dos Encoders y un clasificador. Uno de los encoders recibe la primer imágen (la cual puede ser real o generada), y el otro Encoder recibe la imágen de referencia. Cada enconder consiste de 2 capas convolucionales, con función de activación Leaky ReLU y Dropout.\n",
    "\n",
    "Luego, los resultados de ambos encoders son concatenados y enviados al clasificador. El clasificador aplica 2 capas fully-connected para determinar si la primer imágen es real o falsa."
   ]
  },
  {
   "cell_type": "code",
   "execution_count": 15,
   "metadata": {},
   "outputs": [],
   "source": [
    "class Discriminator(tf.keras.Model):\n",
    "  def __init__(self):\n",
    "    super(Discriminator, self).__init__()\n",
    "    \n",
    "    # Image encoder\n",
    "    self.img_enc_conv_1 = tf.keras.layers.Conv2D(64, (5, 5), \n",
    "                                                 strides=(2, 2), \n",
    "                                                 padding='same', \n",
    "                                                 input_shape=(28, 28, 1),\n",
    "                                                 activation=tf.nn.leaky_relu)\n",
    "    self.img_enc_drop_1 = tf.keras.layers.Dropout(0.3)\n",
    "    # 14x14x64\n",
    "      \n",
    "    self.img_enc_conv_2 = tf.keras.layers.Conv2D(128, (5, 5), strides=(2, 2), padding='same', activation=tf.nn.leaky_relu)\n",
    "    self.img_enc_drop_2 = tf.keras.layers.Dropout(0.3)\n",
    "    # 7x7x128\n",
    "     \n",
    "    self.img_enc_flat = tf.keras.layers.Flatten()\n",
    "    \n",
    "    \n",
    "    # Reference encoder\n",
    "    self.ref_enc_conv_1 = tf.keras.layers.Conv2D(64, (5, 5), \n",
    "                                                 strides=(2, 2), \n",
    "                                                 padding='same', \n",
    "                                                 input_shape=(28, 28, 1),\n",
    "                                                 activation=tf.nn.leaky_relu)\n",
    "    self.ref_enc_drop_1 = tf.keras.layers.Dropout(0.3)\n",
    "    # 14x14x64\n",
    "      \n",
    "    self.ref_enc_conv_2 = tf.keras.layers.Conv2D(128, (5, 5), strides=(2, 2), padding='same', activation=tf.nn.leaky_relu)\n",
    "    self.ref_enc_drop_2 = tf.keras.layers.Dropout(0.3)\n",
    "    # 7x7x128\n",
    "     \n",
    "    self.ref_enc_flat = tf.keras.layers.Flatten()\n",
    "    \n",
    "    \n",
    "    # Classifier\n",
    "    self.class_fc_1 = tf.keras.layers.Dense(1024, activation=tf.nn.leaky_relu)\n",
    "    self.class_fc_2 = tf.keras.layers.Dense(1)\n",
    "        \n",
    "\n",
    "  def call(self, inputs, training=True):\n",
    "    \n",
    "    image = inputs[0]\n",
    "    reference = inputs[1]\n",
    "    \n",
    "    # Apply masked image encoder\n",
    "    img_encoding = self.img_enc_conv_1(image)\n",
    "    img_encoding = self.img_enc_drop_1(img_encoding)\n",
    "    \n",
    "    img_encoding = self.img_enc_conv_2(img_encoding)\n",
    "    img_encoding = self.img_enc_drop_2(img_encoding)\n",
    "    \n",
    "    img_encoding = self.img_enc_flat(img_encoding)\n",
    "        \n",
    "    # Apply reference image encoder\n",
    "    ref_encoding = self.ref_enc_conv_1(reference)\n",
    "    ref_encoding = self.ref_enc_drop_1(ref_encoding)\n",
    "    \n",
    "    ref_encoding = self.ref_enc_conv_2(ref_encoding)\n",
    "    ref_encoding = self.ref_enc_drop_2(ref_encoding)\n",
    "    \n",
    "    ref_encoding = self.ref_enc_flat(ref_encoding)\n",
    "        \n",
    "\n",
    "    # Join both the image and reference encoding\n",
    "    encoding = tf.concat([img_encoding, ref_encoding], axis=1)\n",
    "    \n",
    "    # Apply the classifier to the joined encoding\n",
    "    encoding = self.class_fc_1(encoding)\n",
    "    logits = self.class_fc_2(encoding)\n",
    "    \n",
    "    return logits"
   ]
  },
  {
   "cell_type": "code",
   "execution_count": 18,
   "metadata": {
    "colab": {},
    "colab_type": "code",
    "id": "gDkA05NE6QMs"
   },
   "outputs": [],
   "source": [
    "generator = Generator()\n",
    "discriminator = Discriminator()"
   ]
  },
  {
   "cell_type": "markdown",
   "metadata": {
    "colab_type": "text",
    "id": "0FMYgY_mPfTi"
   },
   "source": [
    "## Funciones de costo y optimizadores\n",
    "\n",
    "A continuación se definen las funciones de costo para ambos modelos, y los optimizadores a utilizar para minimizar dichas funciones."
   ]
  },
  {
   "cell_type": "markdown",
   "metadata": {
    "colab_type": "text",
    "id": "Jd-3GCUEiKtv"
   },
   "source": [
    "### Función de costo del generador\n",
    "La función de costo del generador consiste de una función de Sigmoid Cross Entropy sobre las imágenes generadas. Se busca que la salida del discriminador sea 1 (reales) para dichas imágenes."
   ]
  },
  {
   "cell_type": "code",
   "execution_count": 19,
   "metadata": {
    "colab": {},
    "colab_type": "code",
    "id": "90BIcCKcDMxz"
   },
   "outputs": [],
   "source": [
    "def generator_loss(generated_output):\n",
    "    return tf.losses.sigmoid_cross_entropy(tf.ones_like(generated_output), generated_output)"
   ]
  },
  {
   "cell_type": "markdown",
   "metadata": {
    "colab_type": "text",
    "id": "PKY_iPSPNWoj"
   },
   "source": [
    "### Función de costo del discriminador\n",
    "\n",
    "La función de costo del discriminador tiene dos partes:\n",
    "1. Costo sobre imágenes reales: consiste de una Sigmoid Cross Entropy sobre las imágenes reales. Se busca que la salida del discriminador sea 1 (reales) para dichas imágenes.\n",
    "2. Costo sobre imágenes generadas: consiste de una Sigmoid Cross Entropy sobre las imágenes generadas por el generador. Se busca que la salida del discriminador sea 0 (falsas) para dichas imágenes.\n",
    "\n",
    "Luego se suman estas dos funciones para obtener la función de costo del discriminador."
   ]
  },
  {
   "cell_type": "code",
   "execution_count": 20,
   "metadata": {
    "colab": {},
    "colab_type": "code",
    "id": "wkMNfBWlT-PV"
   },
   "outputs": [],
   "source": [
    "def discriminator_loss(real_output, generated_output):\n",
    "    real_loss = tf.losses.sigmoid_cross_entropy(multi_class_labels=tf.ones_like(real_output), logits=real_output)\n",
    "    generated_loss = tf.losses.sigmoid_cross_entropy(multi_class_labels=tf.zeros_like(generated_output), logits=generated_output)\n",
    "    total_loss = real_loss + generated_loss\n",
    "    return total_loss"
   ]
  },
  {
   "cell_type": "markdown",
   "metadata": {
    "colab_type": "text",
    "id": "MgIc7i0th_Iu"
   },
   "source": [
    "### Optimizadores\n",
    "Se utiliza un optimizador Adam para cada modelo, ya que estos se entrenan en paralelo."
   ]
  },
  {
   "cell_type": "code",
   "execution_count": 21,
   "metadata": {
    "colab": {},
    "colab_type": "code",
    "id": "iWCn_PVdEJZ7"
   },
   "outputs": [],
   "source": [
    "generator_optimizer = tf.train.AdamOptimizer(1e-4)\n",
    "discriminator_optimizer = tf.train.AdamOptimizer(1e-4)"
   ]
  },
  {
   "cell_type": "markdown",
   "metadata": {
    "colab_type": "text",
    "id": "mWtinsGDPJlV"
   },
   "source": [
    "## Checkpoints\n",
    "Los parámetros de ambos modelos se almacenarán como checkpoints durante el entrenamiento, para poder recuperarlos luego."
   ]
  },
  {
   "cell_type": "code",
   "execution_count": 22,
   "metadata": {
    "colab": {},
    "colab_type": "code",
    "id": "CA1w-7s2POEy"
   },
   "outputs": [],
   "source": [
    "checkpoint_dir = './training_checkpoints'\n",
    "checkpoint_prefix = os.path.join(checkpoint_dir, \"ckpt\")\n",
    "checkpoint = tf.train.Checkpoint(generator_optimizer=generator_optimizer,\n",
    "                                 discriminator_optimizer=discriminator_optimizer,\n",
    "                                 generator=generator,\n",
    "                                 discriminator=discriminator)"
   ]
  },
  {
   "cell_type": "markdown",
   "metadata": {
    "colab_type": "text",
    "id": "Rw1fkAczTQYh"
   },
   "source": [
    "## Configuración del entrenamiento"
   ]
  },
  {
   "cell_type": "markdown",
   "metadata": {
    "colab_type": "text",
    "id": "jylSonrqSWfi"
   },
   "source": [
    "### Paso de entrenamiento\n",
    "\n",
    "En cada paso del entrenamiento, el generador recibe un batch de imágenes enmascaradas junto con sus respectivas imágenes de referencias, y regenera las secciones faltantes. Estas regiones generadas son luego insertadas en las imágenes del batch, completando las secciones faltantes con las regiones generadas por el generador. Luego, el discriminador recibe por un lado estas imágenes con las secciones regeneradas junto con sus imágenes de referencia, y por otro lado un batch de imágenes reales, también con sus imágenes de referencia. \n",
    "\n",
    "A continuación, en base a los resultados del discriminador se calculan las funciones de costo de ambos modelos. Y finalmente, se aplica un paso de los optimizadores para cada modelo."
   ]
  },
  {
   "cell_type": "code",
   "execution_count": 23,
   "metadata": {},
   "outputs": [],
   "source": [
    "def patch_image(patch, image):\n",
    "  \"\"\"\n",
    "  Apply the given patch to the image.\n",
    "  The patch is applied at the center of the image, assuming a 7x7 patch and a 28x28 image.\n",
    "  \"\"\"\n",
    "  # TODO: See if this could be done more efficiently.\n",
    "  \n",
    "  upper_edge = image[:, :10, :, :]\n",
    "  lower_edge = image[:, 17:, :, :]\n",
    "  \n",
    "  middle_left = image[:, 10:17, :10, :]\n",
    "  middle_right = image[:, 10:17, 17:, :]\n",
    "  \n",
    "  middle = tf.concat([middle_left, patch, middle_right], axis=2)\n",
    "  return tf.concat([upper_edge, middle, lower_edge], axis=1)\n"
   ]
  },
  {
   "cell_type": "code",
   "execution_count": 24,
   "metadata": {
    "colab": {},
    "colab_type": "code",
    "id": "3t5ibNo05jCB"
   },
   "outputs": [],
   "source": [
    "def train_step(full_images, full_reference_images, masked_images, masked_reference_images):\n",
    "  with tf.GradientTape() as gen_tape, tf.GradientTape() as disc_tape:\n",
    "    \n",
    "    generated_patches = generator((masked_images, masked_reference_images), training=True)\n",
    "    generated_images = patch_image(generated_patches, masked_images)\n",
    "    \n",
    "    real_output = discriminator((full_images, full_reference_images), training=True)\n",
    "    generated_output = discriminator((generated_images, masked_reference_images), training=True)\n",
    "    \n",
    "    gen_loss = generator_loss(generated_output)\n",
    "    disc_loss = discriminator_loss(real_output, generated_output)\n",
    "\n",
    "  gradients_of_generator = gen_tape.gradient(gen_loss, generator.variables)\n",
    "  gradients_of_discriminator = disc_tape.gradient(disc_loss, discriminator.variables)\n",
    "\n",
    "  generator_optimizer.apply_gradients(zip(gradients_of_generator, generator.variables))\n",
    "  discriminator_optimizer.apply_gradients(zip(gradients_of_discriminator, discriminator.variables))\n",
    "  \n",
    "  return gen_loss, disc_loss"
   ]
  },
  {
   "cell_type": "markdown",
   "metadata": {
    "colab_type": "text",
    "id": "6TSZgwc2BUQ-"
   },
   "source": [
    "Debido a que ejecutar el entrenamiento de forma secuencial suele ser más lento que ejecutar el grafo de operaciones equivalente, utilizamos la función [tf.contrib.eager.defun](https://www.tensorflow.org/api_docs/python/tf/contrib/eager/defun) para generar el grafo de operaciones y así obtener una mejora en la performance."
   ]
  },
  {
   "cell_type": "code",
   "execution_count": null,
   "metadata": {
    "colab": {},
    "colab_type": "code",
    "id": "Iwya07_j5p2A"
   },
   "outputs": [],
   "source": [
    "train_step = tf.contrib.eager.defun(train_step)"
   ]
  },
  {
   "cell_type": "markdown",
   "metadata": {},
   "source": [
    "### Proceso completo de entrenamiento\n",
    "Aquí definimos el proceso completo de entrenamiento. Se itera sobre todo el dataset por cada epoch, y por cada batch del dataset se aplica un paso de entrenamiento. Luego de cada epoch, se muestran las imágenes de validación con las secciones regeneradas por el discriminador, y se grafican las funciones de costo de ambos modelos."
   ]
  },
  {
   "cell_type": "code",
   "execution_count": 25,
   "metadata": {},
   "outputs": [],
   "source": [
    "EPOCHS = 100"
   ]
  },
  {
   "cell_type": "code",
   "execution_count": 26,
   "metadata": {
    "colab": {},
    "colab_type": "code",
    "id": "2M7LmLtGEMQJ"
   },
   "outputs": [],
   "source": [
    "def train(dataset, epochs):\n",
    "  gen_losses = []\n",
    "  disc_losses = []\n",
    "  for epoch in range(epochs):\n",
    "    start = time.time()\n",
    "    \n",
    "    for images in dataset:\n",
    "      (full_images, full_reference_images) = images[0]\n",
    "      (masked_images, unmasked_images, masked_reference_images) = images[1]\n",
    "      gen_loss, disc_loss = train_step(full_images, full_reference_images, masked_images, masked_reference_images)\n",
    "    \n",
    "    # Only store losses after each epoch\n",
    "    gen_losses.append(gen_loss)\n",
    "    disc_losses.append(disc_loss)\n",
    "\n",
    "    display.clear_output(wait=True)\n",
    "    generate_and_save_images(generator,\n",
    "                             epoch + 1,\n",
    "                             validation_masked_images,\n",
    "                             validation_references)\n",
    "    plot_losses(gen_losses, disc_losses)\n",
    "\n",
    "    # saving (checkpoint) the model every 5 epochs\n",
    "    if (epoch + 1) % 5 == 0:\n",
    "      checkpoint.save(file_prefix = checkpoint_prefix)\n",
    "    \n",
    "    print ('Time taken for epoch {} is {} sec'.format(epoch + 1,\n",
    "                                                      time.time()-start))\n",
    "  # generating after the final epoch\n",
    "  display.clear_output(wait=True)\n",
    "  generate_and_save_images(generator,\n",
    "                           epochs,\n",
    "                           validation_masked_images,\n",
    "                           validation_references)\n",
    "  plot_losses(gen_losses, disc_losses)"
   ]
  },
  {
   "cell_type": "code",
   "execution_count": 27,
   "metadata": {},
   "outputs": [],
   "source": [
    "def plot_losses(gen_loss, disc_loss): \n",
    "  plt.plot(range(1, len(gen_loss) + 1), gen_loss)\n",
    "  plt.plot(range(1, len(disc_loss) + 1), disc_loss)\n",
    "  plt.xlabel('Epoch')\n",
    "  plt.ylabel('Loss')\n",
    "  plt.title('Generator and Discriminator Losses')\n",
    "  plt.legend(['Gen loss', 'Disc loss'])\n",
    "  plt.show()"
   ]
  },
  {
   "cell_type": "code",
   "execution_count": 28,
   "metadata": {
    "colab": {},
    "colab_type": "code",
    "id": "RmdVsmvhPxyy"
   },
   "outputs": [],
   "source": [
    "def generate_and_save_images(generator, epoch, masked_images, reference_images):\n",
    "  # make sure the training parameter is set to False because we\n",
    "  # don't want to train the batchnorm layer when doing inference.\n",
    "  patches = generator((masked_images, reference_images), training=False)\n",
    "  generated_images = patch_image(patches, masked_images)\n",
    "  \n",
    "  show_and_save_images(generated_images, 'image_at_epoch_{:04d}.png'.format(epoch))"
   ]
  },
  {
   "cell_type": "markdown",
   "metadata": {
    "colab_type": "text",
    "id": "dZrd4CdjR-Fp"
   },
   "source": [
    "## Entrenamiento de la GAN"
   ]
  },
  {
   "cell_type": "code",
   "execution_count": 29,
   "metadata": {
    "colab": {},
    "colab_type": "code",
    "id": "Ly3UN0SLLY2l",
    "scrolled": false
   },
   "outputs": [
    {
     "data": {
      "image/png": "[encoded data removed]",
      "text/plain": [
       "<Figure size 288x288 with 16 Axes>"
      ]
     },
     "metadata": {
      "needs_background": "light"
     },
     "output_type": "display_data"
    },
    {
     "data": {
      "image/png": "[encoded data removed]",
      "text/plain": [
       "<Figure size 432x288 with 1 Axes>"
      ]
     },
     "metadata": {
      "needs_background": "light"
     },
     "output_type": "display_data"
    },
    {
     "name": "stdout",
     "output_type": "stream",
     "text": [
      "CPU times: user 58min 3s, sys: 16min 13s, total: 1h 14min 17s\n",
      "Wall time: 2h 50min 34s\n"
     ]
    }
   ],
   "source": [
    "%%time\n",
    "train(train_dataset, EPOCHS)"
   ]
  },
  {
   "cell_type": "markdown",
   "metadata": {
    "colab_type": "text",
    "id": "rfM4YcPVPkNO"
   },
   "source": [
    "**Restauración del último checkpoint**"
   ]
  },
  {
   "cell_type": "code",
   "execution_count": 30,
   "metadata": {
    "colab": {},
    "colab_type": "code",
    "id": "XhXsd0srPo8c"
   },
   "outputs": [
    {
     "data": {
      "text/plain": [
       "<tensorflow.python.training.checkpointable.util.CheckpointLoadStatus at 0x7fd04255bcf8>"
      ]
     },
     "execution_count": 30,
     "metadata": {},
     "output_type": "execute_result"
    }
   ],
   "source": [
    "# restoring the latest checkpoint in checkpoint_dir\n",
    "checkpoint.restore(tf.train.latest_checkpoint(checkpoint_dir))"
   ]
  },
  {
   "cell_type": "markdown",
   "metadata": {
    "colab_type": "text",
    "id": "P4M_vIbUi7c0"
   },
   "source": [
    "## Resultados"
   ]
  },
  {
   "cell_type": "markdown",
   "metadata": {
    "colab_type": "text",
    "id": "mLskt7EfXAjr"
   },
   "source": [
    "Luego del entrenamiento, visualizamos los resultados obtenidos."
   ]
  },
  {
   "cell_type": "code",
   "execution_count": 31,
   "metadata": {
    "colab": {},
    "colab_type": "code",
    "id": "WfO5wCdclHGL"
   },
   "outputs": [],
   "source": [
    "# Display a single image using the epoch number\n",
    "def display_image(name):\n",
    "  return PIL.Image.open(name)"
   ]
  },
  {
   "cell_type": "markdown",
   "metadata": {},
   "source": [
    "### Imágenes enmascaradas"
   ]
  },
  {
   "cell_type": "code",
   "execution_count": 32,
   "metadata": {},
   "outputs": [
    {
     "data": {
      "image/png": "[encoded data removed]",
      "text/plain": [
       "<PIL.PngImagePlugin.PngImageFile image mode=RGBA size=288x288 at 0x7FD04804F3C8>"
      ]
     },
     "execution_count": 32,
     "metadata": {},
     "output_type": "execute_result"
    }
   ],
   "source": [
    "display_image('validation_masked_images.png')"
   ]
  },
  {
   "cell_type": "markdown",
   "metadata": {},
   "source": [
    "### Imágenes de referencia"
   ]
  },
  {
   "cell_type": "code",
   "execution_count": 33,
   "metadata": {},
   "outputs": [
    {
     "data": {
      "image/png": "[encoded data removed]",
      "text/plain": [
       "<PIL.PngImagePlugin.PngImageFile image mode=RGBA size=288x288 at 0x7FD042608588>"
      ]
     },
     "execution_count": 33,
     "metadata": {},
     "output_type": "execute_result"
    }
   ],
   "source": [
    "display_image('validation_reference_images.png')"
   ]
  },
  {
   "cell_type": "markdown",
   "metadata": {},
   "source": [
    "### Imágenes generadas"
   ]
  },
  {
   "cell_type": "code",
   "execution_count": 34,
   "metadata": {},
   "outputs": [
    {
     "data": {
      "image/png": "[encoded data removed]",
      "text/plain": [
       "<PIL.PngImagePlugin.PngImageFile image mode=RGBA size=288x288 at 0x7FD0426087F0>"
      ]
     },
     "execution_count": 34,
     "metadata": {},
     "output_type": "execute_result"
    }
   ],
   "source": [
    "display_image('image_at_epoch_{:04d}.png'.format(EPOCHS))"
   ]
  },
  {
   "cell_type": "markdown",
   "metadata": {},
   "source": [
    "### Imágenes reales"
   ]
  },
  {
   "cell_type": "code",
   "execution_count": 35,
   "metadata": {},
   "outputs": [
    {
     "data": {
      "image/png": "[encoded data removed]",
      "text/plain": [
       "<PIL.PngImagePlugin.PngImageFile image mode=RGBA size=288x288 at 0x7FD0426086A0>"
      ]
     },
     "execution_count": 35,
     "metadata": {},
     "output_type": "execute_result"
    }
   ],
   "source": [
    "display_image('validation_unmasked_images.png')"
   ]
  },
  {
   "cell_type": "markdown",
   "metadata": {
    "colab_type": "text",
    "id": "NywiH3nL8guF"
   },
   "source": [
    "### GIF del proceso de entrenamiento\n",
    "\n",
    "A continuación generamos un gif mostrando la evolución del generador sobre las imágenes de validación."
   ]
  },
  {
   "cell_type": "code",
   "execution_count": null,
   "metadata": {
    "colab": {},
    "colab_type": "code",
    "id": "IGKQgENQ8lEI"
   },
   "outputs": [],
   "source": [
    "with imageio.get_writer('mnist-inpainting.gif', mode='I') as writer:\n",
    "  filenames = glob.glob('image*.png')\n",
    "  filenames = sorted(filenames)\n",
    "  last = -1\n",
    "  for i,filename in enumerate(filenames):\n",
    "    frame = 2*(i**0.5)\n",
    "    if round(frame) > round(last):\n",
    "      last = frame\n",
    "    else:\n",
    "      continue\n",
    "    image = imageio.imread(filename)\n",
    "    writer.append_data(image)\n",
    "  image = imageio.imread(filename)\n",
    "  writer.append_data(image)\n",
    "    \n",
    "# this is required in order to display the gif inside the notebook\n",
    "os.system('cp mnist-inpainting.gif mnist-inpainting.gif.png')"
   ]
  },
  {
   "cell_type": "code",
   "execution_count": null,
   "metadata": {
    "colab": {},
    "colab_type": "code",
    "id": "uV0yiKpzNP1b"
   },
   "outputs": [],
   "source": [
    "display.Image(filename=\"mnist-inpainting.gif.png\")"
   ]
  }
 ],
 "metadata": {
  "accelerator": "GPU",
  "colab": {
   "collapsed_sections": [],
   "name": "dcgan.ipynb",
   "provenance": [],
   "version": "0.3.2"
  },
  "kernelspec": {
   "display_name": "Python 3",
   "language": "python",
   "name": "python3"
  },
  "language_info": {
   "codemirror_mode": {
    "name": "ipython",
    "version": 3
   },
   "file_extension": ".py",
   "mimetype": "text/x-python",
   "name": "python",
   "nbconvert_exporter": "python",
   "pygments_lexer": "ipython3",
   "version": "3.5.2"
  }
 },
 "nbformat": 4,
 "nbformat_minor": 1
}
